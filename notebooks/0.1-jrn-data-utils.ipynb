{
 "cells": [
  {
   "cell_type": "code",
   "execution_count": null,
   "metadata": {},
   "outputs": [],
   "source": [
    "import sys\n",
    "\n",
    "sys.path.append(\"..\")"
   ]
  },
  {
   "cell_type": "code",
   "execution_count": null,
   "metadata": {},
   "outputs": [],
   "source": [
    "import os\n",
    "\n",
    "from src import utils, preprocessing"
   ]
  },
  {
   "cell_type": "markdown",
   "metadata": {},
   "source": [
    "# Interim Data Preprocessing: Session Realignment\n",
    "\n",
    "This code cell applies a realignment process to the final session of each subject. In other words, the code take the final session and split that session into two halves, so that all subject have a total of four sessions. Finally, it saves the updated raw data for each session back into the corresponding directory. This code facilitates the preprocessing and organization of EEG data for further analysis and modeling."
   ]
  },
  {
   "cell_type": "code",
   "execution_count": null,
   "metadata": {},
   "outputs": [],
   "source": [
    "# Initialize subject and session information\n",
    "subjects = [\"sub-001\", \"sub-006\"]\n",
    "sessions = [\"ses-001\", \"ses-002\", \"ses-003\"]\n",
    "\n",
    "# Load mne-raw object for each session\n",
    "directory_list = [f\"../data/interim/{sub}/eeg\" for sub in subjects]\n",
    "\n",
    "for sub, directory in zip(subjects, directory_list):\n",
    "    raw_list = []\n",
    "    for session in sessions:\n",
    "        filename = f\"{sub}_task-rest_eeg_{session}_raw.fif\"\n",
    "        raw = utils.load_mne_data(directory, filename)\n",
    "        raw_list.append(raw)\n",
    "\n",
    "    print(raw_list)\n",
    "\n",
    "    # Realign final session for subject\n",
    "    updated_raw_list = preprocessing.realign_final_session(raw_list)\n",
    "\n",
    "    print(updated_raw_list)\n",
    "\n",
    "    # Save each session back in the directory\n",
    "    for i, session in enumerate(sessions + [\"ses-004\"]):\n",
    "        filename = f\"{sub}_task-rest_eeg_{session}_raw.fif\"\n",
    "        save_directory = f\"../data/interim/{sub}/eeg-realigned/\"\n",
    "        os.makedirs(save_directory, exist_ok=True)\n",
    "        updated_raw_list[i].save(os.path.join(save_directory, filename), overwrite=True)"
   ]
  }
 ],
 "metadata": {
  "kernelspec": {
   "display_name": "mne",
   "language": "python",
   "name": "python3"
  },
  "language_info": {
   "codemirror_mode": {
    "name": "ipython",
    "version": 3
   },
   "file_extension": ".py",
   "mimetype": "text/x-python",
   "name": "python",
   "nbconvert_exporter": "python",
   "pygments_lexer": "ipython3",
   "version": "3.11.6"
  }
 },
 "nbformat": 4,
 "nbformat_minor": 2
}
