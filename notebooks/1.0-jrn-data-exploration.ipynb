{
 "cells": [
  {
   "cell_type": "code",
   "execution_count": 1,
   "metadata": {},
   "outputs": [],
   "source": [
    "import sys\n",
    "\n",
    "sys.path.append(\"..\")"
   ]
  },
  {
   "cell_type": "code",
   "execution_count": 2,
   "metadata": {},
   "outputs": [],
   "source": [
    "from src import utils"
   ]
  },
  {
   "cell_type": "code",
   "execution_count": null,
   "metadata": {},
   "outputs": [],
   "source": [
    "# Initialize subject and session information\n",
    "sfreq = 512\n",
    "subject = \"sub-001\"\n",
    "sessions = [\"ses-001\", \"ses-002\", \"ses-003\", \"ses-004\"]"
   ]
  },
  {
   "cell_type": "code",
   "execution_count": null,
   "metadata": {},
   "outputs": [],
   "source": [
    "# Subjects sub-001 and sub-006 have only three sessions\n",
    "if subject in [\"sub-001\", \"sub-006\"]:\n",
    "    sessions = sessions[:3]"
   ]
  },
  {
   "cell_type": "code",
   "execution_count": null,
   "metadata": {},
   "outputs": [],
   "source": [
    "# Create mne-montage object based on channels information\n",
    "directory = \"../data/external/\"\n",
    "filename = \"montage.txt\"\n",
    "channels_info = utils.load_channels_info(directory, filename)\n",
    "montage = utils.create_montage(\"standard_1020\")"
   ]
  },
  {
   "cell_type": "code",
   "execution_count": null,
   "metadata": {},
   "outputs": [],
   "source": [
    "for session in sessions:\n",
    "    # Load eegdata and remove unused channels\n",
    "    directory = f\"../data/raw/{subject}/eeg\"\n",
    "    filename = f\"{subject}_task-rest_eeg_{session}.txt\"\n",
    "    columns_to_remove = [0, 1, 2, 13, 23]\n",
    "    eegdata = utils.load_data(directory, filename, columns_to_remove)\n",
    "\n",
    "    # Create mne-raw object\n",
    "    raw = utils.create_mne_raw(eegdata, channels_info, montage, sfreq=sfreq)\n",
    "\n",
    "    # Save mne-raw object\n",
    "    directory = f\"../data/interim/{subject}/eeg\"\n",
    "    filename = f\"{subject}_task-rest_eeg_{session}_raw.fif\"\n",
    "    utils.save_mne_data(raw, directory, filename)"
   ]
  }
 ],
 "metadata": {
  "kernelspec": {
   "display_name": "mne",
   "language": "python",
   "name": "python3"
  },
  "language_info": {
   "codemirror_mode": {
    "name": "ipython",
    "version": 3
   },
   "file_extension": ".py",
   "mimetype": "text/x-python",
   "name": "python",
   "nbconvert_exporter": "python",
   "pygments_lexer": "ipython3",
   "version": "3.11.6"
  }
 },
 "nbformat": 4,
 "nbformat_minor": 2
}
