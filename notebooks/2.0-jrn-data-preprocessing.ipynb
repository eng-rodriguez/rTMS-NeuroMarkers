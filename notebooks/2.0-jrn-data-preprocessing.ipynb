{
 "cells": [
  {
   "cell_type": "code",
   "execution_count": 31,
   "metadata": {},
   "outputs": [],
   "source": [
    "import sys\n",
    "\n",
    "sys.path.append(\"..\")"
   ]
  },
  {
   "cell_type": "code",
   "execution_count": 32,
   "metadata": {},
   "outputs": [],
   "source": [
    "from src import utils, preprocessing"
   ]
  },
  {
   "cell_type": "code",
   "execution_count": 33,
   "metadata": {},
   "outputs": [],
   "source": [
    "# Initialize subject and session information\n",
    "subject = \"sub-001\"\n",
    "sessions = [\"ses-001\", \"ses-002\", \"ses-003\", \"ses-004\"]"
   ]
  },
  {
   "cell_type": "code",
   "execution_count": 34,
   "metadata": {},
   "outputs": [],
   "source": [
    "# If subject is sub-001 or sub-006, load the mne-raw objects from the realigned directory\n",
    "if subject in [\"sub-001\", \"sub-006\"]:\n",
    "    directory = f\"../data/interim/{subject}/eeg-realigned\"\n",
    "else:\n",
    "    directory = f\"../data/interim/{subject}/eeg\"\n",
    "\n",
    "# Load mne-raw objects to the notebook\n",
    "raw_list = []\n",
    "for session in sessions:\n",
    "    filename = f\"{subject}_task-rest_eeg_{session}_raw.fif\"\n",
    "    raw = utils.load_mne_data(directory, filename)\n",
    "    raw_list.append(raw)"
   ]
  },
  {
   "cell_type": "code",
   "execution_count": 35,
   "metadata": {},
   "outputs": [],
   "source": [
    "# Apply preprocessing steps to each mne-raw object in raw_list\n",
    "preprocessed_raw_list = []\n",
    "for raw in raw_list:\n",
    "    # Interpolate NaNs values\n",
    "    data = raw.get_data()\n",
    "    data_interpolated = preprocessing.interpolate_nans(data)\n",
    "    raw._data = data_interpolated\n",
    "\n",
    "    # Apply preprocessing steps\n",
    "    raw_filtered = preprocessing.notch_filter(raw, 60)\n",
    "    raw_filtered = preprocessing.bandpass_filter(raw_filtered, 0.1, 40)\n",
    "    raw_filtered = preprocessing.re_reference(raw_filtered, \"average\")\n",
    "    preprocessed_raw_list.append(raw_filtered)"
   ]
  },
  {
   "cell_type": "code",
   "execution_count": 36,
   "metadata": {},
   "outputs": [],
   "source": [
    "# Save preprocessed raw data for each session\n",
    "directory = f\"../data/processed/{subject}/eeg\"\n",
    "for i, session in enumerate(sessions):\n",
    "    filename = f\"{subject}_task-rest_eeg_{session}_filtered_raw.fif\"\n",
    "    utils.save_mne_data(preprocessed_raw_list[i], directory, filename)"
   ]
  }
 ],
 "metadata": {
  "kernelspec": {
   "display_name": "mne",
   "language": "python",
   "name": "python3"
  },
  "language_info": {
   "codemirror_mode": {
    "name": "ipython",
    "version": 3
   },
   "file_extension": ".py",
   "mimetype": "text/x-python",
   "name": "python",
   "nbconvert_exporter": "python",
   "pygments_lexer": "ipython3",
   "version": "3.11.6"
  }
 },
 "nbformat": 4,
 "nbformat_minor": 2
}
