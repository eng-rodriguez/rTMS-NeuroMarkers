{
 "cells": [
  {
   "cell_type": "code",
   "execution_count": null,
   "metadata": {},
   "outputs": [],
   "source": [
    "import sys\n",
    "\n",
    "sys.path.append(\"..\")"
   ]
  },
  {
   "cell_type": "code",
   "execution_count": null,
   "metadata": {},
   "outputs": [],
   "source": [
    "import mne\n",
    "import numpy as np\n",
    "import matplotlib.pyplot as plt\n",
    "\n",
    "from src import preprocessing, visualizations"
   ]
  },
  {
   "cell_type": "markdown",
   "metadata": {},
   "source": [
    "## Mock Data and Test Case Preparation\n",
    "In this section, we have a collection of Python functions that used to generate mock data and prepare test case scenarios. \n",
    "These functions are essential for testing our docebase, ensuring that each component works as expected under different conditions."
   ]
  },
  {
   "cell_type": "code",
   "execution_count": null,
   "metadata": {},
   "outputs": [],
   "source": [
    "def create_mock_raw_object(n_channels=5, n_samples=5000, sfreq=512):\n",
    "    \"\"\"\n",
    "    Create a mock raw object with random EEG data.\n",
    "\n",
    "    Parameters:\n",
    "    - n_channels (int): The number of EEG channels. Default is 5.\n",
    "    - n_samples (int): The number of EEG samples. Default is 5000.\n",
    "    - sfreq (int): The sampling frequency of the EEG data. Default is 512.\n",
    "\n",
    "    Returns:\n",
    "    - raw (object): The mock raw object with random EEG data.\n",
    "    \"\"\"\n",
    "    data = np.random.rand(n_channels, n_samples)\n",
    "    info = mne.create_info(n_channels, sfreq, ch_types=\"eeg\")\n",
    "    raw = mne.io.RawArray(data, info)\n",
    "    return raw"
   ]
  },
  {
   "cell_type": "markdown",
   "metadata": {},
   "source": [
    "# Testing Preprocessing Functionalities\n",
    "\n",
    "This Python code is used to test the implementation of the functions inside preprocessing.py for preprocessing EEG recordings."
   ]
  },
  {
   "cell_type": "code",
   "execution_count": null,
   "metadata": {},
   "outputs": [],
   "source": [
    "# Create a mock raw object\n",
    "mock_raw = create_mock_raw_object()\n",
    "\n",
    "# Apply preprocessing functions to the mock data\n",
    "mock_raw_notch_filtered = preprocessing.notch_filter(mock_raw, 60)\n",
    "mock_raw_bandpass_filtered = preprocessing.bandpass_filter(\n",
    "    mock_raw_notch_filtered, 0.1, 100\n",
    ")\n",
    "\n",
    "# Plotting the PSD for the original, notch-filtered, and bandpass-filtered data\n",
    "visualizations.plot_psd(mock_raw, \"sub-001\", \"Original\")\n",
    "visualizations.plot_psd(mock_raw_notch_filtered, \"sub-001\", \"Notch-Filtered\")\n",
    "visualizations.plot_psd(mock_raw_bandpass_filtered, \"sub-001\", \"Bandpass-Filtered\")\n",
    "\n",
    "# Checking the mean of the re-reference data\n",
    "mock_raw_rereferenced = preprocessing.re_reference(mock_raw_bandpass_filtered)\n",
    "mock_raw_rereferenced_mean = mock_raw_rereferenced.get_data().mean(axis=0)\n",
    "plt.style.use(\"seaborn-v0_8-paper\")\n",
    "plt.figure(figsize=(10, 5), dpi=300)\n",
    "plt.plot(mock_raw_rereferenced_mean)\n",
    "plt.title(\"Mean of the Re-Referenced Data Across Channels\")\n",
    "plt.xlabel(\"Sample\")\n",
    "plt.ylabel(\"Mean Voltage\")\n",
    "plt.show()"
   ]
  }
 ],
 "metadata": {
  "kernelspec": {
   "display_name": "mne",
   "language": "python",
   "name": "python3"
  },
  "language_info": {
   "codemirror_mode": {
    "name": "ipython",
    "version": 3
   },
   "file_extension": ".py",
   "mimetype": "text/x-python",
   "name": "python",
   "nbconvert_exporter": "python",
   "pygments_lexer": "ipython3",
   "version": "3.11.6"
  }
 },
 "nbformat": 4,
 "nbformat_minor": 2
}
